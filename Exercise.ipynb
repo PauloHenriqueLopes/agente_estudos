{
 "cells": [
  {
   "cell_type": "code",
   "execution_count": null,
   "id": "e1bed48a",
   "metadata": {},
   "outputs": [],
   "source": [
    "import os\n",
    "import re\n",
    "from dotenv import load_dotenv\n",
    "import gradio as gr\n",
    "from langchain.text_splitter import CharacterTextSplitter\n",
    "from langchain_openai import OpenAIEmbeddings, ChatOpenAI\n",
    "from langchain_chroma import Chroma\n",
    "from langchain.memory import ConversationBufferMemory\n",
    "from langchain.chains import ConversationalRetrievalChain\n",
    "from langchain.callbacks.streaming_stdout import StreamingStdOutCallbackHandler\n",
    "from langchain.prompts import ChatPromptTemplate, MessagesPlaceholder\n",
    "from langchain.schema import SystemMessage\n",
    "from docling.document_converter import DocumentConverter\n",
    "from langchain_core.callbacks import StdOutCallbackHandler\n",
    "from langchain.vectorstores import Chroma\n"
   ]
  },
  {
   "cell_type": "code",
   "execution_count": null,
   "id": "67743f3d",
   "metadata": {},
   "outputs": [],
   "source": [
    "MODEL = \"gpt-4o-mini\"\n",
    "db_name = \"dadosSlidesProva\""
   ]
  },
  {
   "cell_type": "code",
   "execution_count": null,
   "id": "1714d0ea",
   "metadata": {},
   "outputs": [],
   "source": [
    "load_dotenv(override=True)\n",
    "os.environ['OPENAI_API_KEY'] = os.getenv('OPENAI_API_KEY', 'your-key-if-not-using-env')"
   ]
  },
  {
   "cell_type": "code",
   "execution_count": null,
   "id": "21187c36",
   "metadata": {},
   "outputs": [],
   "source": [
    "system_prompt = \"\"\"\n",
    "Você é um assistente acadêmico especializado em banco de dados.\n",
    "Responda de forma objetiva, estruturada e com linguagem clara.\n",
    "- Dê a resposta com a maior quantidade de detalhes possível.\n",
    "- Faça sua resposta de maneira didática.\n",
    "- Evite repetir partes da pergunta.\n",
    "- Mantenha a resposta direta ao ponto mas com o máximo de detalhes que puder fornecer.\n",
    "- Revise sua resposta antes de fornece-la.\n",
    "\"\"\""
   ]
  },
  {
   "cell_type": "code",
   "execution_count": null,
   "id": "621cfac5",
   "metadata": {},
   "outputs": [],
   "source": [
    "#Transformar PDFs dos slides em texto\n",
    "source = \"/home/paulo/Documents/llmProjects/llm_engineering/week5/documents\"\n",
    "converter = DocumentConverter()\n",
    "\n",
    "all_docs = []\n",
    "\n",
    "for filename in os.listdir(source):\n",
    "    filepath = os.path.join(source, filename)\n",
    "    if os.path.isfile(filepath) and filename.lower().endswith(\".pdf\"):\n",
    "        try:\n",
    "            result = converter.convert(filepath)\n",
    "            markdown_text = result.document.export_to_markdown()\n",
    "            markdown_text = markdown_text.replace(\"Wladmir Cardoso Brandão www.wladmirbrandao.com\", \"\")\n",
    "            markdown_text = markdown_text.replace(\"www.wladmirbrandao.com\", \"\")\n",
    "            markdown_text = markdown_text.replace(\"Wladmir Cardoso Brandão\", \"\")\n",
    "            markdown_text = markdown_text.replace(\"<!-- image -->\", \"\")\n",
    "            all_docs.append(markdown_text)\n",
    "        except Exception as e:\n",
    "            print(\"Erro ao processar {filename} : {e}\")\n",
    "    \n",
    "full_corpus = \"\\n\\n\".join(all_docs)\n",
    "print(full_corpus)"
   ]
  },
  {
   "cell_type": "code",
   "execution_count": null,
   "id": "63ea1dc0",
   "metadata": {},
   "outputs": [],
   "source": [
    "#Salva texto dos slides\n",
    "if full_corpus != \"\":\n",
    "    with open(\"dataBase/texto_pdf.md\", \"w\", encoding=\"utf-8\") as arquivo:\n",
    "        arquivo.write(full_corpus)\n",
    "else:\n",
    "    print(\"Variável vazia!\")"
   ]
  },
  {
   "cell_type": "code",
   "execution_count": null,
   "id": "aaa35175",
   "metadata": {},
   "outputs": [],
   "source": [
    "#Transforma PDFs do livro em texto\n",
    "source = \"/home/paulo/Documents/llmProjects/llm_engineering/week5/livro\"\n",
    "converter = DocumentConverter()\n",
    "\n",
    "all_docs = []\n",
    "\n",
    "for filename in os.listdir(source):\n",
    "    filepath = os.path.join(source, filename)\n",
    "    if os.path.isfile(filepath) and filename.lower().endswith(\".pdf\"):\n",
    "        try:\n",
    "            result = converter.convert(filepath)\n",
    "            markdown_text = result.document.export_to_markdown()\n",
    "            markdown_text = markdown_text.replace(\"<!-- image -->\", \"\")\n",
    "            all_docs.append(markdown_text)\n",
    "        except Exception as e:\n",
    "            print(\"Erro ao processar {filename} : {e}\")\n",
    "    \n",
    "full_corpus = \"\\n\\n\".join(all_docs)\n",
    "print(full_corpus)"
   ]
  },
  {
   "cell_type": "code",
   "execution_count": null,
   "id": "4fb50dfa",
   "metadata": {},
   "outputs": [],
   "source": [
    "#Salva o texto do livro\n",
    "if full_corpus != \"\":\n",
    "    with open(\"dataBase/livro_pdf.md\", \"w\", encoding=\"utf-8\") as arquivo:\n",
    "        arquivo.write(full_corpus)\n",
    "else:\n",
    "    print(\"Variável vazia!\")"
   ]
  },
  {
   "cell_type": "code",
   "execution_count": null,
   "id": "a99ec1e3",
   "metadata": {},
   "outputs": [],
   "source": [
    "#Adicionando Separa os textos por conteúdo,adiciona metadados e cria chunks.\n",
    "documentos = \"\"\n",
    "source = \"/home/paulo/Documents/llmProjects/llm_engineering/week5/dataBase/\"\n",
    "\n",
    "\n",
    "for file_name in os.listdir(source):\n",
    "    try:\n",
    "        with open(source + file_name, \"r\") as arquivo:\n",
    "            documentos += arquivo.read()\n",
    "    except Exception as e:\n",
    "        print(f\"Erro ao ler {file_name}: {e}\")\n",
    "\n",
    "padrao = re.compile(r\"##\\s*(.+?)\\n(.*?)(?=(?:\\n##\\s*)|\\Z)\", re.DOTALL)\n",
    "secoes_extraidas = padrao.findall(documentos)\n",
    "\n",
    "text_splitter = CharacterTextSplitter(chunk_size=200, chunk_overlap=50)\n",
    "\n",
    "chunks = []\n",
    "metadados = []\n",
    "\n",
    "chunk_id_global = 1\n",
    "\n",
    "for titulo, conteudo in secoes_extraidas:\n",
    "    partes = text_splitter.split_text(conteudo.strip())\n",
    "    print(f\"\\nDividindo seção '{titulo}' em {len(partes)} chunk(s)\")\n",
    "    for i, chunk in enumerate(partes):\n",
    "        chunks.append(chunk)\n",
    "        metadados.append({\n",
    "            \"titulo\" : titulo.strip(),\n",
    "            \"chunk_local\" : i + 1,\n",
    "            \"chunk_id\" : chunk_id_global\n",
    "        })\n",
    "        chunk_id_global += 1"
   ]
  },
  {
   "cell_type": "code",
   "execution_count": null,
   "id": "f4b41899",
   "metadata": {},
   "outputs": [],
   "source": [
    "embeddings = OpenAIEmbeddings()\n",
    "\n",
    "if os.path.exists(db_name):\n",
    "    print(\"Vetores encontrados. Carregando da base existente...\")\n",
    "    vectorstore = Chroma(persist_directory=db_name, embedding_function=embeddings)"
   ]
  },
  {
   "cell_type": "code",
   "execution_count": null,
   "id": "0902b49f",
   "metadata": {},
   "outputs": [],
   "source": [
    "batch_size = 200  # ajuste conforme necessário\n",
    "\n",
    "for i in range(0, len(chunks), batch_size):\n",
    "    batch_chunks = chunks[i:i+batch_size]\n",
    "    batch_metadatas = metadados[i:i+batch_size]\n",
    "    vectorstore.add_texts(texts=batch_chunks, metadatas=batch_metadatas)"
   ]
  },
  {
   "cell_type": "code",
   "execution_count": null,
   "id": "56fb92d6",
   "metadata": {},
   "outputs": [],
   "source": [
    "llm = ChatOpenAI(streaming=True, callbacks=[StreamingStdOutCallbackHandler()], temperature=0.3)\n",
    "memory = ConversationBufferMemory(memory_key='chat_history', return_messages=True)\n",
    "retriever = vectorstore.as_retriever(search_kwargs={\"k\": 10})\n",
    "conversation_chain = ConversationalRetrievalChain.from_llm(llm=llm, retriever=retriever, memory=memory, callbacks=[StdOutCallbackHandler()])"
   ]
  },
  {
   "cell_type": "code",
   "execution_count": null,
   "id": "d4f213bc",
   "metadata": {},
   "outputs": [],
   "source": [
    "query = \"quais sao as propriedades acid e oque cada uma significa?\"\n",
    "result = conversation_chain.invoke({\"question\": query})\n",
    "answer = result[\"answer\"]\n",
    "print(\"\\nAnswer:\", answer)"
   ]
  },
  {
   "cell_type": "code",
   "execution_count": null,
   "id": "1266fe13",
   "metadata": {},
   "outputs": [],
   "source": [
    "def chat(question, history):\n",
    "    result = conversation_chain.invoke({\"question\": system_prompt + question})\n",
    "    return result[\"answer\"]"
   ]
  },
  {
   "cell_type": "code",
   "execution_count": null,
   "id": "4ea5078e",
   "metadata": {},
   "outputs": [],
   "source": [
    "view = gr.ChatInterface(chat, type=\"messages\").launch(inbrowser=True)"
   ]
  }
 ],
 "metadata": {
  "kernelspec": {
   "display_name": "llms",
   "language": "python",
   "name": "python3"
  },
  "language_info": {
   "codemirror_mode": {
    "name": "ipython",
    "version": 3
   },
   "file_extension": ".py",
   "mimetype": "text/x-python",
   "name": "python",
   "nbconvert_exporter": "python",
   "pygments_lexer": "ipython3",
   "version": "3.11.13"
  }
 },
 "nbformat": 4,
 "nbformat_minor": 5
}
